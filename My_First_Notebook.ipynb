{
 "cells": [
  {
   "cell_type": "markdown",
   "metadata": {},
   "source": [
    "# Python Shortcuts  \n",
    "    1. Shift + Enter  =>  Run cell, Select below cell\n",
    "    2. Ctrl + Enter   =>  Run active cell\n",
    "    3. Alt + Enter    =>  Run cell, insert below\n",
    "    4. Tab            =>  Code completion or indent\n",
    "    5. Shift + Tab    =>  Tool tip"
   ]
  },
  {
   "cell_type": "code",
   "execution_count": 4,
   "metadata": {},
   "outputs": [
    {
     "name": "stdout",
     "output_type": "stream",
     "text": [
      "2 * 7 = 14\n"
     ]
    }
   ],
   "source": [
    "print(\"{} * {} = {}\".format(2, 7, 2*7))"
   ]
  },
  {
   "cell_type": "markdown",
   "metadata": {},
   "source": [
    "# Lists"
   ]
  },
  {
   "cell_type": "code",
   "execution_count": 11,
   "metadata": {},
   "outputs": [
    {
     "name": "stdout",
     "output_type": "stream",
     "text": [
      "['Don', 2, 4, 8, 'Need a job', True, 3.14]\n",
      "Don\n",
      "True\n",
      "7\n",
      "Julie\n",
      "['Julie', 2, 4, 8, 'Need a job', True, 3.14, 'Tribble']\n",
      "['Julie', 2, 8, 'Need a job', True, 3.14, 'Tribble']\n",
      "4\n"
     ]
    }
   ],
   "source": [
    "simple_list = [\"Don\",2,4,8,'Need a job', True, 3.14]\n",
    "print(simple_list)\n",
    "print(simple_list[0])\n",
    "print(simple_list[-2])\n",
    "print(len(simple_list))\n",
    "\n",
    "simple_list[0] = \"Julie\"\n",
    "print(simple_list[0])\n",
    "simple_list.append(\"Tribble\")\n",
    "print(simple_list)\n",
    "val = simple_list.pop(2)\n",
    "print(simple_list)\n",
    "print(val)"
   ]
  },
  {
   "cell_type": "markdown",
   "metadata": {},
   "source": [
    "# Tuples"
   ]
  },
  {
   "cell_type": "code",
   "execution_count": 15,
   "metadata": {},
   "outputs": [
    {
     "name": "stdout",
     "output_type": "stream",
     "text": [
      "(1, 2, 3, 4, 5, 6)\n",
      "(7, 2, 3, 4, 5, 6)\n"
     ]
    }
   ],
   "source": [
    "simple_tuple = (1,2,3,4,5,6)\n",
    "print(simple_tuple)\n",
    "# simple_tuple[0] = 7   # Can't change tuples\n",
    "\n",
    "# Work around\n",
    "dummy = list(simple_tuple)\n",
    "dummy[0] = 7\n",
    "simple_tuple = tuple(dummy)\n",
    "print(simple_tuple)"
   ]
  },
  {
   "cell_type": "markdown",
   "metadata": {},
   "source": [
    "# Sets"
   ]
  },
  {
   "cell_type": "code",
   "execution_count": 25,
   "metadata": {},
   "outputs": [
    {
     "name": "stdout",
     "output_type": "stream",
     "text": [
      "{1, 'Don', 4}\n",
      "True\n",
      "{1, 'Don', 4, 'Tribble'}\n",
      "{1, 'Don', 'Tribble'}\n"
     ]
    }
   ],
   "source": [
    "simple_set = {1, 4, \"Don\", 4, True}\n",
    "print(simple_set)\n",
    "# print(simple_set[2])   # can't index sets\n",
    "print('Don' in simple_set)\n",
    "simple_set.add(\"Tribble\")\n",
    "print(simple_set)\n",
    "simple_set.remove(4)\n",
    "print(simple_set)"
   ]
  },
  {
   "cell_type": "markdown",
   "metadata": {},
   "source": [
    "# Dictionaries"
   ]
  },
  {
   "cell_type": "code",
   "execution_count": 38,
   "metadata": {},
   "outputs": [
    {
     "name": "stdout",
     "output_type": "stream",
     "text": [
      "{'Brand': 'Apple', 'Type': 'IPhone', 'Model': 'XR'}\n",
      "I bought an IPhone XR.  It was made by Apple.\n",
      "I bought an IPhone 11 Pro.  It was made by Apple.\n"
     ]
    }
   ],
   "source": [
    "simple_dict = {\n",
    "    \"Brand\": \"Apple\",\n",
    "    \"Type\": \"IPhone\",\n",
    "    \"Model\": \"XR\"\n",
    "}\n",
    "print(simple_dict)\n",
    "print(\"I bought an {} {}.  It was made by {}.\".format(simple_dict[\"Type\"], simple_dict[\"Model\"], simple_dict[\"Brand\"]))\n",
    "simple_dict[\"Model\"] = \"11 Pro\"\n",
    "print(\"I bought an {} {}.  It was made by {}.\".format(simple_dict[\"Type\"], simple_dict[\"Model\"], simple_dict[\"Brand\"]))"
   ]
  },
  {
   "cell_type": "code",
   "execution_count": null,
   "metadata": {},
   "outputs": [],
   "source": []
  }
 ],
 "metadata": {
  "kernelspec": {
   "display_name": "Python 3",
   "language": "python",
   "name": "python3"
  },
  "language_info": {
   "codemirror_mode": {
    "name": "ipython",
    "version": 3
   },
   "file_extension": ".py",
   "mimetype": "text/x-python",
   "name": "python",
   "nbconvert_exporter": "python",
   "pygments_lexer": "ipython3",
   "version": "3.8.3"
  }
 },
 "nbformat": 4,
 "nbformat_minor": 4
}
